{
 "cells": [
  {
   "cell_type": "markdown",
   "metadata": {
    "id": "gAH9tGkzn0SF"
   },
   "source": [
    "# Задание 3.2 - сверточные нейронные сети (CNNs) в PyTorch\n",
    "\n",
    "Это упражнение мы буде выполнять в Google Colab - https://colab.research.google.com/  \n",
    "Google Colab позволяет запускать код в notebook в облаке Google, где можно воспользоваться бесплатным GPU!  \n",
    "\n",
    "Авторы курса благодарят компанию Google и надеятся, что праздник не закончится.\n",
    "\n",
    "Туториал по настройке Google Colab:  \n",
    "https://medium.com/deep-learning-turkey/google-colab-free-gpu-tutorial-e113627b9f5d  \n",
    "(Keras инсталлировать не нужно, наш notebook сам установит PyTorch)\n"
   ]
  },
  {
   "cell_type": "code",
   "execution_count": 1,
   "metadata": {
    "colab": {
     "base_uri": "https://localhost:8080/"
    },
    "id": "FcXBeP1O7cnY",
    "outputId": "d5577ddc-444e-452d-efc3-b29beef5a1fb"
   },
   "outputs": [
    {
     "name": "stdout",
     "output_type": "stream",
     "text": [
      "Looking in indexes: https://pypi.org/simple, https://us-python.pkg.dev/colab-wheels/public/simple/\n",
      "Requirement already satisfied: torch in /usr/local/lib/python3.9/dist-packages (1.13.1+cu116)\n",
      "Requirement already satisfied: torchvision in /usr/local/lib/python3.9/dist-packages (0.14.1+cu116)\n",
      "Requirement already satisfied: typing-extensions in /usr/local/lib/python3.9/dist-packages (from torch) (4.5.0)\n",
      "Requirement already satisfied: requests in /usr/local/lib/python3.9/dist-packages (from torchvision) (2.27.1)\n",
      "Requirement already satisfied: pillow!=8.3.*,>=5.3.0 in /usr/local/lib/python3.9/dist-packages (from torchvision) (8.4.0)\n",
      "Requirement already satisfied: numpy in /usr/local/lib/python3.9/dist-packages (from torchvision) (1.22.4)\n",
      "Requirement already satisfied: idna<4,>=2.5 in /usr/local/lib/python3.9/dist-packages (from requests->torchvision) (3.4)\n",
      "Requirement already satisfied: certifi>=2017.4.17 in /usr/local/lib/python3.9/dist-packages (from requests->torchvision) (2022.12.7)\n",
      "Requirement already satisfied: urllib3<1.27,>=1.21.1 in /usr/local/lib/python3.9/dist-packages (from requests->torchvision) (1.26.15)\n",
      "Requirement already satisfied: charset-normalizer~=2.0.0 in /usr/local/lib/python3.9/dist-packages (from requests->torchvision) (2.0.12)\n",
      "--2023-03-26 06:34:16--  http://ufldl.stanford.edu/housenumbers/train_32x32.mat\n",
      "Resolving ufldl.stanford.edu (ufldl.stanford.edu)... 171.64.68.10\n",
      "Connecting to ufldl.stanford.edu (ufldl.stanford.edu)|171.64.68.10|:80... connected.\n",
      "HTTP request sent, awaiting response... 200 OK\n",
      "Length: 182040794 (174M) [text/plain]\n",
      "Saving to: ‘train_32x32.mat’\n",
      "\n",
      "train_32x32.mat     100%[===================>] 173.61M  16.2MB/s    in 14s     \n",
      "\n",
      "2023-03-26 06:34:31 (12.2 MB/s) - ‘train_32x32.mat’ saved [182040794/182040794]\n",
      "\n",
      "--2023-03-26 06:34:31--  http://ufldl.stanford.edu/housenumbers/test_32x32.mat\n",
      "Reusing existing connection to ufldl.stanford.edu:80.\n",
      "HTTP request sent, awaiting response... 200 OK\n",
      "Length: 64275384 (61M) [text/plain]\n",
      "Saving to: ‘test_32x32.mat’\n",
      "\n",
      "test_32x32.mat      100%[===================>]  61.30M  15.5MB/s    in 3.9s    \n",
      "\n",
      "2023-03-26 06:34:35 (15.7 MB/s) - ‘test_32x32.mat’ saved [64275384/64275384]\n",
      "\n",
      "FINISHED --2023-03-26 06:34:35--\n",
      "Total wall clock time: 19s\n",
      "Downloaded: 2 files, 235M in 18s (13.0 MB/s)\n"
     ]
    }
   ],
   "source": [
    "# Intstall PyTorch and download data\n",
    "!pip3 install torch torchvision\n",
    "\n",
    "!wget -c http://ufldl.stanford.edu/housenumbers/train_32x32.mat http://ufldl.stanford.edu/housenumbers/test_32x32.mat"
   ]
  },
  {
   "cell_type": "code",
   "execution_count": 2,
   "metadata": {
    "ExecuteTime": {
     "end_time": "2023-03-26T13:12:55.683146Z",
     "start_time": "2023-03-26T13:12:51.861082Z"
    },
    "id": "-afwWw-Q85vD"
   },
   "outputs": [],
   "source": [
    "from collections import namedtuple\n",
    "\n",
    "import matplotlib\n",
    "matplotlib.use('Qt5Agg')\n",
    "import matplotlib.pyplot as plt\n",
    "import numpy as np\n",
    "import PIL\n",
    "import torch\n",
    "import torch.nn as nn\n",
    "import torch.optim as optim\n",
    "import torchvision.datasets as dset\n",
    "from torch.utils.data.sampler import SubsetRandomSampler\n",
    "\n",
    "from torchvision import transforms"
   ]
  },
  {
   "cell_type": "code",
   "execution_count": 3,
   "metadata": {
    "ExecuteTime": {
     "end_time": "2023-03-26T13:12:57.163940Z",
     "start_time": "2023-03-26T13:12:57.153714Z"
    },
    "id": "NNU-OD9O9ltP"
   },
   "outputs": [],
   "source": [
    "device = torch.device(\"cuda:0\") # Let's make sure GPU is available!"
   ]
  },
  {
   "cell_type": "markdown",
   "metadata": {
    "id": "OuZeuOVFn0SN"
   },
   "source": [
    "# Загружаем данные"
   ]
  },
  {
   "cell_type": "code",
   "execution_count": 8,
   "metadata": {
    "ExecuteTime": {
     "end_time": "2023-03-26T13:15:29.586094Z",
     "start_time": "2023-03-26T13:14:22.090393Z"
    },
    "id": "YAvkoRx-9FsP"
   },
   "outputs": [
    {
     "name": "stdout",
     "output_type": "stream",
     "text": [
      "Downloading http://ufldl.stanford.edu/housenumbers/train_32x32.mat to ./train_32x32.mat\n"
     ]
    },
    {
     "data": {
      "application/vnd.jupyter.widget-view+json": {
       "model_id": "aceb5f9e1f464b1eb403b80497536cff",
       "version_major": 2,
       "version_minor": 0
      },
      "text/plain": [
       "  0%|          | 0/182040794 [00:00<?, ?it/s]"
      ]
     },
     "metadata": {},
     "output_type": "display_data"
    },
    {
     "name": "stdout",
     "output_type": "stream",
     "text": [
      "Downloading http://ufldl.stanford.edu/housenumbers/test_32x32.mat to ./test_32x32.mat\n"
     ]
    },
    {
     "data": {
      "application/vnd.jupyter.widget-view+json": {
       "model_id": "3873deeab26f407686938a0b13dd87ae",
       "version_major": 2,
       "version_minor": 0
      },
      "text/plain": [
       "  0%|          | 0/64275384 [00:00<?, ?it/s]"
      ]
     },
     "metadata": {},
     "output_type": "display_data"
    }
   ],
   "source": [
    "# First, lets load the dataset\n",
    "data_train = dset.SVHN('./', \n",
    "                       transform=transforms.Compose([\n",
    "                           transforms.ToTensor(),\n",
    "                           transforms.Normalize(mean=[0.43,0.44,0.47],\n",
    "                                               std=[0.20,0.20,0.20])                           \n",
    "                       ])\n",
    "                      )\n",
    "data_test = dset.SVHN('./', split='test', transform=transforms.Compose([\n",
    "                           transforms.ToTensor(),\n",
    "                           transforms.Normalize(mean=[0.43,0.44,0.47],\n",
    "                                               std=[0.20,0.20,0.20])                           \n",
    "                       ]))"
   ]
  },
  {
   "cell_type": "markdown",
   "metadata": {
    "id": "3vDLxbBzn0SO"
   },
   "source": [
    "Разделяем данные на training и validation.\n",
    "\n",
    "На всякий случай для подробностей - https://pytorch.org/tutorials/beginner/data_loading_tutorial.html"
   ]
  },
  {
   "cell_type": "code",
   "execution_count": 9,
   "metadata": {
    "ExecuteTime": {
     "end_time": "2023-03-26T13:15:42.297621Z",
     "start_time": "2023-03-26T13:15:42.273431Z"
    },
    "id": "YRnr8CPg7Hli"
   },
   "outputs": [],
   "source": [
    "batch_size = 64\n",
    "\n",
    "data_size = data_train.data.shape[0]\n",
    "validation_split = .2\n",
    "split = int(np.floor(validation_split * data_size))\n",
    "indices = list(range(data_size))\n",
    "np.random.shuffle(indices)\n",
    "\n",
    "train_indices, val_indices = indices[split:], indices[:split]\n",
    "\n",
    "train_sampler = SubsetRandomSampler(train_indices)\n",
    "val_sampler = SubsetRandomSampler(val_indices)\n",
    "\n",
    "train_loader = torch.utils.data.DataLoader(data_train, batch_size=batch_size, \n",
    "                                           sampler=train_sampler)\n",
    "val_loader = torch.utils.data.DataLoader(data_train, batch_size=batch_size,\n",
    "                                         sampler=val_sampler)"
   ]
  },
  {
   "cell_type": "code",
   "execution_count": 10,
   "metadata": {
    "ExecuteTime": {
     "end_time": "2023-03-26T13:15:44.976508Z",
     "start_time": "2023-03-26T13:15:44.969362Z"
    },
    "id": "LyYvt-T67PBG"
   },
   "outputs": [],
   "source": [
    "# We'll use a special helper module to shape it into a flat tensor\n",
    "class Flattener(nn.Module):\n",
    "    def forward(self, x):\n",
    "        batch_size, *_ = x.shape\n",
    "        return x.view(batch_size, -1)"
   ]
  },
  {
   "cell_type": "markdown",
   "metadata": {
    "id": "dlRg-tOdn0SQ"
   },
   "source": [
    "Создадим простейшую сеть с новыми слоями:  \n",
    "Convolutional - `nn.Conv2d`  \n",
    "MaxPool - `nn.MaxPool2d`"
   ]
  },
  {
   "cell_type": "code",
   "execution_count": 11,
   "metadata": {
    "ExecuteTime": {
     "end_time": "2023-03-26T13:16:06.570595Z",
     "start_time": "2023-03-26T13:16:05.266614Z"
    },
    "id": "w9SFVGZP7SQd"
   },
   "outputs": [],
   "source": [
    "nn_model = nn.Sequential(\n",
    "            nn.Conv2d(3, 64, 3, padding=1),\n",
    "            nn.ReLU(inplace=True),\n",
    "            nn.MaxPool2d(4),\n",
    "            nn.Conv2d(64, 64, 3, padding=1),\n",
    "            nn.ReLU(inplace=True),\n",
    "            nn.MaxPool2d(4),    \n",
    "            Flattener(),\n",
    "            nn.Linear(64*2*2, 10),\n",
    "          )\n",
    "\n",
    "nn_model.type(torch.cuda.FloatTensor)\n",
    "nn_model.to(device)\n",
    "\n",
    "loss = nn.CrossEntropyLoss().type(torch.cuda.FloatTensor)\n",
    "optimizer = optim.SGD(nn_model.parameters(), lr=1e-1, weight_decay=1e-4)"
   ]
  },
  {
   "cell_type": "markdown",
   "metadata": {
    "id": "tb4iOal0n0SR"
   },
   "source": [
    "Восстановите функцию `compute_accuracy` из прошлого задания.  \n",
    "Единственное отличие в новом - она должна передать данные на GPU прежде чем прогонять через модель. Сделайте это так же, как это делает функция `train_model`"
   ]
  },
  {
   "cell_type": "code",
   "execution_count": 12,
   "metadata": {
    "ExecuteTime": {
     "end_time": "2023-03-26T13:17:39.534519Z",
     "start_time": "2023-03-26T13:16:16.785925Z"
    },
    "colab": {
     "base_uri": "https://localhost:8080/",
     "height": 104
    },
    "id": "2ek3KVQK7hJ6",
    "outputId": "fd0c0952-e5f7-4c42-d10a-15445ec352ee"
   },
   "outputs": [
    {
     "name": "stdout",
     "output_type": "stream",
     "text": [
      "Epoch: 0.000000, Average loss: 1.390235, Train accuracy: 0.534979, Val accuracy: 0.719473\n",
      "Epoch: 1.000000, Average loss: 0.721146, Train accuracy: 0.779374, Val accuracy: 0.806361\n",
      "Epoch: 2.000000, Average loss: 0.617981, Train accuracy: 0.814388, Val accuracy: 0.814074\n",
      "Epoch: 3.000000, Average loss: 0.565337, Train accuracy: 0.831980, Val accuracy: 0.821650\n",
      "Epoch: 4.000000, Average loss: 0.530758, Train accuracy: 0.843600, Val accuracy: 0.837963\n"
     ]
    }
   ],
   "source": [
    "def train_model(model, train_loader, val_loader, loss, optimizer, num_epochs, step_size=2, gamma=0.5, use_scheduler=False): \n",
    "    loss_history = []\n",
    "    train_history = []\n",
    "    val_history = []\n",
    "    if use_scheduler:\n",
    "        scheduler = torch.optim.lr_scheduler.StepLR(optimizer=optimizer, step_size=step_size, gamma=gamma) \n",
    "    for epoch in range(num_epochs):\n",
    "        model.train() # Enter train mode\n",
    "        \n",
    "        loss_accum = 0\n",
    "        correct_samples = 0\n",
    "        total_samples = 0\n",
    "        for i_step, (x, y) in enumerate(train_loader):\n",
    "          \n",
    "            x_gpu = x.to(device)\n",
    "            y_gpu = y.to(device)\n",
    "            prediction = model(x_gpu)    \n",
    "            loss_value = loss(prediction, y_gpu)\n",
    "            optimizer.zero_grad()\n",
    "            loss_value.backward()\n",
    "            optimizer.step()\n",
    "            \n",
    "            _, indices = torch.max(prediction, 1)\n",
    "            correct_samples += torch.sum(indices == y_gpu)\n",
    "            total_samples += y.shape[0]\n",
    "            \n",
    "            loss_accum += loss_value\n",
    "\n",
    "        ave_loss = loss_accum / i_step\n",
    "        train_accuracy = float(correct_samples) / total_samples\n",
    "        val_accuracy = compute_accuracy(model, val_loader)\n",
    "        \n",
    "        loss_history.append(float(ave_loss))\n",
    "        train_history.append(train_accuracy)\n",
    "        val_history.append(val_accuracy)\n",
    "\n",
    "        print(\"Epoch: %f, Average loss: %f, Train accuracy: %f, Val accuracy: %f\" % (epoch, ave_loss, train_accuracy, val_accuracy))\n",
    "        if use_scheduler:\n",
    "            scheduler.step()\n",
    "        \n",
    "    return loss_history, train_history, val_history\n",
    "        \n",
    "def compute_accuracy(model, loader):\n",
    "    \"\"\"\n",
    "    Computes accuracy on the dataset wrapped in a loader\n",
    "    \n",
    "    Returns: accuracy as a float value between 0 and 1\n",
    "    \"\"\"\n",
    "    model.eval() # Evaluation mode\n",
    "    # TODO: Implement the inference of the model on all of the batches from loader,\n",
    "    #       and compute the overall accuracy.\n",
    "    # Hint: PyTorch has the argmax function!\n",
    "    \n",
    "    pred_list = []\n",
    "    test_list = []\n",
    "\n",
    "    for test_X, test_Y in loader:\n",
    "        test_X_gpu = test_X.to(device)\n",
    "        test_Y_gpu = test_Y.to(device)\n",
    "        pred_list.append(torch.argmax(model(test_X_gpu), dim=1))\n",
    "        test_list.append(test_Y_gpu)\n",
    "\n",
    "    pred_list = torch.hstack(pred_list)\n",
    "    test_list = torch.hstack(test_list)\n",
    "    \n",
    "    accuracy = torch.sum(test_list == pred_list)/len(pred_list)    \n",
    "    \n",
    "    return accuracy\n",
    "\n",
    "loss_history, train_history, val_history = train_model(nn_model, train_loader, val_loader, loss, optimizer, 5)"
   ]
  },
  {
   "cell_type": "markdown",
   "metadata": {
    "id": "6a-3a1ZFGEw_"
   },
   "source": [
    "# Аугментация данных (Data augmentation)\n",
    "\n",
    "В работе с изображениями одним из особенно важных методов является аугментация данных - то есть, генерация дополнительных данных для тренировки на основе изначальных.   \n",
    "Таким образом, мы получаем возможность \"увеличить\" набор данных для тренировки, что ведет к лучшей работе сети.\n",
    "Важно, чтобы аугментированные данные были похожи на те, которые могут встретиться в реальной жизни, иначе польза от аугментаций уменьшается и может ухудшить работу сети.\n",
    "\n",
    "С PyTorch идут несколько таких алгоритмов, называемых `transforms`. Более подробно про них можно прочитать тут -\n",
    "https://pytorch.org/tutorials/beginner/data_loading_tutorial.html#transforms\n",
    "\n",
    "Ниже мы используем следующие алгоритмы генерации:\n",
    "- ColorJitter - случайное изменение цвета\n",
    "- RandomHorizontalFlip - горизонтальное отражение с вероятностью 50%\n",
    "- RandomVerticalFlip - вертикальное отражение с вероятностью 50%\n",
    "- RandomRotation - случайный поворот"
   ]
  },
  {
   "cell_type": "code",
   "execution_count": 13,
   "metadata": {
    "ExecuteTime": {
     "end_time": "2023-03-26T13:17:40.981855Z",
     "start_time": "2023-03-26T13:17:39.537717Z"
    },
    "colab": {
     "base_uri": "https://localhost:8080/"
    },
    "id": "jCWMUWmr7t5g",
    "outputId": "ccc70c65-d141-45b8-e82a-668ecb3d2c1b"
   },
   "outputs": [
    {
     "name": "stderr",
     "output_type": "stream",
     "text": [
      "C:\\Users\\Ivan\\anaconda3\\lib\\site-packages\\torchvision\\transforms\\transforms.py:1303: UserWarning: Argument 'interpolation' of type int is deprecated since 0.13 and will be removed in 0.15. Please use InterpolationMode enum.\n",
      "  warnings.warn(\n"
     ]
    }
   ],
   "source": [
    "tfs = transforms.Compose([\n",
    "    transforms.ColorJitter(hue=.50, saturation=.50),\n",
    "    transforms.RandomHorizontalFlip(),\n",
    "    transforms.RandomVerticalFlip(),\n",
    "    transforms.RandomRotation(50, interpolation=PIL.Image.BILINEAR),\n",
    "    transforms.ToTensor(),\n",
    "    transforms.Normalize(mean=[0.43,0.44,0.47],\n",
    "                       std=[0.20,0.20,0.20])                           \n",
    "])\n",
    "\n",
    "# Create augmented train dataset\n",
    "data_aug_train = dset.SVHN('./', \n",
    "                       transform=tfs\n",
    "                      )\n",
    "\n",
    "train_aug_loader = torch.utils.data.DataLoader(data_aug_train, batch_size=batch_size, \n",
    "                                           sampler=train_sampler)"
   ]
  },
  {
   "cell_type": "markdown",
   "metadata": {
    "id": "az06cU7vn0ST"
   },
   "source": [
    "Визуализируем результаты агментации (вообще, смотреть на сгенерированные данные всегда очень полезно)."
   ]
  },
  {
   "cell_type": "code",
   "execution_count": 14,
   "metadata": {
    "ExecuteTime": {
     "end_time": "2023-03-26T13:17:42.856739Z",
     "start_time": "2023-03-26T13:17:40.981855Z"
    },
    "colab": {
     "base_uri": "https://localhost:8080/",
     "height": 173
    },
    "id": "YlJJEro1KZ45",
    "outputId": "aee17711-4a96-4bbd-c945-6f0e1ba0ff88"
   },
   "outputs": [],
   "source": [
    "# TODO: Visualize some augmented images!\n",
    "# hint: you can create new datasets and loaders to accomplish this\n",
    "\n",
    "# Based on the visualizations, should we keep all the augmentations?\n",
    "\n",
    "tfs = transforms.Compose([\n",
    "    transforms.ColorJitter(hue=.20, saturation=.20),\n",
    "    transforms.RandomHorizontalFlip(),\n",
    "    transforms.RandomVerticalFlip(),\n",
    "    transforms.RandomRotation(10, interpolation=PIL.Image.BILINEAR),\n",
    "])\n",
    "\n",
    "data_aug_vis = dset.SVHN('./', \n",
    "                       transform=tfs\n",
    "                      )\n",
    "\n",
    "plt.figure(figsize=(30, 3))\n",
    "\n",
    "for i, (x, y) in enumerate(data_aug_vis):\n",
    "    if i == 10:\n",
    "        break\n",
    "    plt.subplot(1, 10, i+1)\n",
    "    plt.grid(False)\n",
    "    plt.imshow(x)\n",
    "    plt.axis('off')"
   ]
  },
  {
   "cell_type": "markdown",
   "metadata": {
    "id": "o2LrmsYHoguB"
   },
   "source": [
    "Все ли агментации одинаково полезны на этом наборе данных? Могут ли быть среди них те, которые собьют модель с толку?\n",
    "\n",
    "Выберите из них только корректные"
   ]
  },
  {
   "cell_type": "code",
   "execution_count": 15,
   "metadata": {
    "ExecuteTime": {
     "end_time": "2023-03-26T13:17:44.301105Z",
     "start_time": "2023-03-26T13:17:42.856739Z"
    },
    "id": "evro9ksXGs9u"
   },
   "outputs": [],
   "source": [
    "# TODO: \n",
    "tfs = transforms.Compose([\n",
    "    # TODO: Add good augmentations\n",
    "    transforms.ColorJitter(hue=.20, saturation=.20),\n",
    "    transforms.RandomRotation(10, interpolation=PIL.Image.BILINEAR),\n",
    "    transforms.ToTensor(),\n",
    "    transforms.Normalize(mean=[0.43,0.44,0.47],\n",
    "                       std=[0.20,0.20,0.20])                           \n",
    "])\n",
    "\n",
    "data_aug_train = dset.SVHN('./', \n",
    "                       transform=tfs\n",
    "                      )\n",
    "\n",
    "# TODO create new instances of loaders with the augmentations you chose\n",
    "train_aug_loader = torch.utils.data.DataLoader(data_aug_train, batch_size=batch_size, \n",
    "                                           sampler=train_sampler)"
   ]
  },
  {
   "cell_type": "code",
   "execution_count": 16,
   "metadata": {
    "ExecuteTime": {
     "end_time": "2023-03-26T13:21:01.906192Z",
     "start_time": "2023-03-26T13:17:52.388086Z"
    },
    "colab": {
     "base_uri": "https://localhost:8080/"
    },
    "id": "PeO6Zw0DHqPR",
    "outputId": "c05827ed-b1c4-4797-c067-ffd71e21ee6b"
   },
   "outputs": [
    {
     "name": "stdout",
     "output_type": "stream",
     "text": [
      "Epoch: 0.000000, Average loss: 0.617004, Train accuracy: 0.811931, Val accuracy: 0.835097\n",
      "Epoch: 1.000000, Average loss: 0.565919, Train accuracy: 0.828379, Val accuracy: 0.845881\n",
      "Epoch: 2.000000, Average loss: 0.546541, Train accuracy: 0.834334, Val accuracy: 0.848952\n",
      "Epoch: 3.000000, Average loss: 0.529878, Train accuracy: 0.838805, Val accuracy: 0.850386\n",
      "Epoch: 4.000000, Average loss: 0.512710, Train accuracy: 0.843258, Val accuracy: 0.846086\n"
     ]
    }
   ],
   "source": [
    "# Finally, let's train with augmentations!\n",
    "\n",
    "# Note we shouldn't use augmentations on validation\n",
    "\n",
    "loss_history, train_history, val_history = train_model(nn_model, train_aug_loader, val_loader, loss, optimizer, 5)"
   ]
  },
  {
   "cell_type": "code",
   "execution_count": 17,
   "metadata": {
    "ExecuteTime": {
     "end_time": "2023-03-26T13:21:01.920877Z",
     "start_time": "2023-03-26T13:21:01.906192Z"
    },
    "colab": {
     "base_uri": "https://localhost:8080/"
    },
    "id": "tEVNtSbOBYfS",
    "outputId": "e19361c4-4069-441a-c6b0-600974b11909"
   },
   "outputs": [
    {
     "data": {
      "text/plain": [
       "(3, 32, 32)"
      ]
     },
     "execution_count": 17,
     "metadata": {},
     "output_type": "execute_result"
    }
   ],
   "source": [
    "train_aug_loader.dataset.data[0].shape"
   ]
  },
  {
   "cell_type": "markdown",
   "metadata": {
    "id": "r0bcioK6JBDK"
   },
   "source": [
    "# LeNet\n",
    "Попробуем имплементировать классическую архитектуру сверточной нейронной сети, предложенную Яном ЛеКуном в 1998 году. В свое время она достигла впечатляющих результатов на MNIST, посмотрим как она справится с SVHN?\n",
    "Она описана в статье [\"Gradient Based Learning Applied to Document Recognition\"](http://yann.lecun.com/exdb/publis/pdf/lecun-01a.pdf), попробуйте прочитать ключевые части и имплементировать предложенную архитетуру на PyTorch.\n",
    "\n",
    "Реализовывать слои и функцию ошибки LeNet, которых нет в PyTorch, **не нужно** - просто возьмите их размеры и переведите в уже известные нам Convolutional, Pooling и Fully Connected layers.\n",
    "\n",
    "Если в статье не очень понятно, можно просто погуглить LeNet и разобраться в деталях :)"
   ]
  },
  {
   "cell_type": "code",
   "execution_count": 18,
   "metadata": {
    "ExecuteTime": {
     "end_time": "2023-03-26T13:21:01.935115Z",
     "start_time": "2023-03-26T13:21:01.920877Z"
    },
    "id": "ieEzZUglJAUB"
   },
   "outputs": [],
   "source": [
    "# TODO: Implement LeNet-like architecture for SVHN task\n",
    "lenet_model = nn.Sequential(\n",
    "          nn.Conv2d(in_channels=3, out_channels=6, kernel_size=(5, 5)),\n",
    "          nn.MaxPool2d(kernel_size=(2, 2), stride=2),\n",
    "          nn.Tanh(),\n",
    "          nn.Conv2d(in_channels=6, out_channels=16, kernel_size=(5, 5)),\n",
    "          nn.MaxPool2d(kernel_size=(2, 2), stride=2),\n",
    "          nn.Tanh(),\n",
    "          Flattener(),\n",
    "          nn.Linear(in_features=16 * 5 * 5, out_features=120),\n",
    "          nn.Tanh(),\n",
    "          nn.Linear(120, 84),\n",
    "          nn.Tanh(),\n",
    "          nn.Linear(84, 10)\n",
    "          )\n",
    "\n",
    "lenet_model.type(torch.cuda.FloatTensor)\n",
    "lenet_model.to(device)\n",
    "\n",
    "loss = nn.CrossEntropyLoss().type(torch.cuda.FloatTensor)\n",
    "optimizer = optim.SGD(lenet_model.parameters(), lr=1e-1, weight_decay=1e-4)"
   ]
  },
  {
   "cell_type": "code",
   "execution_count": 19,
   "metadata": {
    "ExecuteTime": {
     "end_time": "2023-03-26T13:27:25.237229Z",
     "start_time": "2023-03-26T13:21:01.935115Z"
    },
    "colab": {
     "base_uri": "https://localhost:8080/",
     "height": 450
    },
    "id": "WMmaPfdeKk9H",
    "outputId": "f77b414b-6b79-404b-b381-4e832ffc5c16"
   },
   "outputs": [
    {
     "name": "stdout",
     "output_type": "stream",
     "text": [
      "Epoch: 0.000000, Average loss: 1.228162, Train accuracy: 0.587602, Val accuracy: 0.817350\n",
      "Epoch: 1.000000, Average loss: 0.570891, Train accuracy: 0.824335, Val accuracy: 0.846154\n",
      "Epoch: 2.000000, Average loss: 0.479917, Train accuracy: 0.852421, Val accuracy: 0.866835\n",
      "Epoch: 3.000000, Average loss: 0.436173, Train accuracy: 0.866669, Val accuracy: 0.864241\n",
      "Epoch: 4.000000, Average loss: 0.403884, Train accuracy: 0.875218, Val accuracy: 0.875640\n",
      "Epoch: 5.000000, Average loss: 0.382499, Train accuracy: 0.881292, Val accuracy: 0.880827\n",
      "Epoch: 6.000000, Average loss: 0.364528, Train accuracy: 0.889005, Val accuracy: 0.881988\n",
      "Epoch: 7.000000, Average loss: 0.353490, Train accuracy: 0.891649, Val accuracy: 0.886970\n",
      "Epoch: 8.000000, Average loss: 0.337224, Train accuracy: 0.895181, Val accuracy: 0.884172\n",
      "Epoch: 9.000000, Average loss: 0.326993, Train accuracy: 0.899021, Val accuracy: 0.888335\n"
     ]
    }
   ],
   "source": [
    "# Let's train it!\n",
    "loss_history, train_history, val_history = train_model(lenet_model, train_aug_loader, val_loader, loss, optimizer, 10)"
   ]
  },
  {
   "cell_type": "markdown",
   "metadata": {
    "id": "u_O9qiYySvuj"
   },
   "source": [
    "# Подбор гиперпараметров"
   ]
  },
  {
   "cell_type": "code",
   "execution_count": 20,
   "metadata": {
    "ExecuteTime": {
     "end_time": "2023-03-26T13:53:26.834999Z",
     "start_time": "2023-03-26T13:27:25.238480Z"
    },
    "colab": {
     "base_uri": "https://localhost:8080/"
    },
    "id": "i6mhfdQ9K-N3",
    "outputId": "8cded1c3-a8ee-4a68-fd5c-55f625ff43ca"
   },
   "outputs": [
    {
     "name": "stdout",
     "output_type": "stream",
     "text": [
      "Epoch: 0.000000, Average loss: 1.362503, Train accuracy: 0.537863, Val accuracy: 0.749164\n",
      "Epoch: 1.000000, Average loss: 0.620845, Train accuracy: 0.809320, Val accuracy: 0.834550\n",
      "Epoch: 2.000000, Average loss: 0.470903, Train accuracy: 0.857796, Val accuracy: 0.864241\n",
      "Epoch: 3.000000, Average loss: 0.425055, Train accuracy: 0.872078, Val accuracy: 0.868473\n",
      "Epoch: 4.000000, Average loss: 0.414892, Train accuracy: 0.875218, Val accuracy: 0.869087\n",
      " lr: 0.01 | weight_decay: 0.001 | anneal_epochs: 1 | accuracy: 0.8690873980522156\n",
      "Epoch: 0.000000, Average loss: 0.921637, Train accuracy: 0.701993, Val accuracy: 0.839738\n",
      "Epoch: 1.000000, Average loss: 0.512186, Train accuracy: 0.846364, Val accuracy: 0.860078\n",
      "Epoch: 2.000000, Average loss: 0.476144, Train accuracy: 0.858257, Val accuracy: 0.862262\n",
      "Epoch: 3.000000, Average loss: 0.468882, Train accuracy: 0.860799, Val accuracy: 0.864173\n",
      "Epoch: 4.000000, Average loss: 0.466333, Train accuracy: 0.861772, Val accuracy: 0.863491\n",
      " lr: 0.001 | weight_decay: 0.001 | anneal_epochs: 1 | accuracy: 0.8634905219078064\n",
      "Epoch: 0.000000, Average loss: 1.686109, Train accuracy: 0.422243, Val accuracy: 0.619002\n",
      "Epoch: 1.000000, Average loss: 1.059280, Train accuracy: 0.658482, Val accuracy: 0.698519\n",
      "Epoch: 2.000000, Average loss: 0.935034, Train accuracy: 0.702539, Val accuracy: 0.722749\n",
      "Epoch: 3.000000, Average loss: 0.906698, Train accuracy: 0.711599, Val accuracy: 0.723364\n",
      "Epoch: 4.000000, Average loss: 0.898701, Train accuracy: 0.714739, Val accuracy: 0.724524\n",
      " lr: 0.01 | weight_decay: 1e-05 | anneal_epochs: 1 | accuracy: 0.7245239019393921\n",
      "Epoch: 0.000000, Average loss: 0.927603, Train accuracy: 0.697591, Val accuracy: 0.837417\n",
      "Epoch: 1.000000, Average loss: 0.512948, Train accuracy: 0.845852, Val accuracy: 0.858713\n",
      "Epoch: 2.000000, Average loss: 0.475918, Train accuracy: 0.857899, Val accuracy: 0.862535\n",
      "Epoch: 3.000000, Average loss: 0.469333, Train accuracy: 0.859929, Val accuracy: 0.864651\n",
      "Epoch: 4.000000, Average loss: 0.465949, Train accuracy: 0.860663, Val accuracy: 0.864924\n",
      " lr: 0.001 | weight_decay: 1e-05 | anneal_epochs: 1 | accuracy: 0.864923894405365\n",
      "Epoch: 0.000000, Average loss: 1.338494, Train accuracy: 0.548272, Val accuracy: 0.726913\n",
      "Epoch: 1.000000, Average loss: 0.823662, Train accuracy: 0.742398, Val accuracy: 0.746911\n",
      "Epoch: 2.000000, Average loss: 0.764580, Train accuracy: 0.763079, Val accuracy: 0.778991\n",
      "Epoch: 3.000000, Average loss: 0.764116, Train accuracy: 0.763591, Val accuracy: 0.775783\n",
      "Epoch: 4.000000, Average loss: 0.752898, Train accuracy: 0.767242, Val accuracy: 0.793734\n",
      " lr: 0.01 | weight_decay: 0.001 | anneal_epochs: 10 | accuracy: 0.7937341928482056\n",
      "Epoch: 0.000000, Average loss: 0.936300, Train accuracy: 0.695867, Val accuracy: 0.834687\n",
      "Epoch: 1.000000, Average loss: 0.534015, Train accuracy: 0.838225, Val accuracy: 0.854071\n",
      "Epoch: 2.000000, Average loss: 0.475838, Train accuracy: 0.855100, Val accuracy: 0.872295\n",
      "Epoch: 3.000000, Average loss: 0.443261, Train accuracy: 0.865475, Val accuracy: 0.880008\n",
      "Epoch: 4.000000, Average loss: 0.420437, Train accuracy: 0.873068, Val accuracy: 0.879462\n",
      " lr: 0.001 | weight_decay: 0.001 | anneal_epochs: 10 | accuracy: 0.8794621229171753\n",
      "Epoch: 0.000000, Average loss: 1.698910, Train accuracy: 0.414719, Val accuracy: 0.618661\n",
      "Epoch: 1.000000, Average loss: 1.181664, Train accuracy: 0.618571, Val accuracy: 0.655928\n",
      "Epoch: 2.000000, Average loss: 1.112274, Train accuracy: 0.644610, Val accuracy: 0.696471\n",
      "Epoch: 3.000000, Average loss: 1.108607, Train accuracy: 0.647476, Val accuracy: 0.677223\n",
      "Epoch: 4.000000, Average loss: 1.102471, Train accuracy: 0.649149, Val accuracy: 0.667599\n",
      " lr: 0.01 | weight_decay: 1e-05 | anneal_epochs: 10 | accuracy: 0.6675994396209717\n",
      "Epoch: 0.000000, Average loss: 0.937498, Train accuracy: 0.696260, Val accuracy: 0.836871\n",
      "Epoch: 1.000000, Average loss: 0.525294, Train accuracy: 0.839743, Val accuracy: 0.866630\n",
      "Epoch: 2.000000, Average loss: 0.449998, Train accuracy: 0.863205, Val accuracy: 0.875981\n",
      "Epoch: 3.000000, Average loss: 0.407163, Train accuracy: 0.875354, Val accuracy: 0.881578\n",
      "Epoch: 4.000000, Average loss: 0.381122, Train accuracy: 0.883920, Val accuracy: 0.878097\n",
      " lr: 0.001 | weight_decay: 1e-05 | anneal_epochs: 10 | accuracy: 0.8780970573425293\n"
     ]
    }
   ],
   "source": [
    "# The key hyperparameters we're going to tune are learning speed, annealing rate and regularization\n",
    "# We also encourage you to try different optimizers as well\n",
    "from itertools import product\n",
    "Hyperparams = namedtuple(\"Hyperparams\", ['learning_rate', 'anneal_epochs', 'reg'])\n",
    "RunResult = namedtuple(\"RunResult\", ['model', 'train_history', 'val_history', 'final_val_accuracy'])\n",
    "\n",
    "learning_rates = [1e-2, 1e-3]\n",
    "anneal_coeff = 0.2\n",
    "anneal_epochs = [1, 10]\n",
    "reg = [1e-3, 1e-5]\n",
    "\n",
    "batch_size = 512\n",
    "epoch_num = 5\n",
    "\n",
    "# Record all the runs here\n",
    "# Key should be Hyperparams and values should be RunResult\n",
    "run_record = {} \n",
    "def get_new_Lenet_model():\n",
    "  lenet_model = nn.Sequential(\n",
    "          nn.Conv2d(in_channels=3, out_channels=6, kernel_size=(5, 5)),\n",
    "          nn.MaxPool2d(kernel_size=(2, 2), stride=2),\n",
    "          nn.Tanh(),\n",
    "          nn.Conv2d(in_channels=6, out_channels=16, kernel_size=(5, 5)),\n",
    "          nn.MaxPool2d(kernel_size=(2, 2), stride=2),\n",
    "          nn.Tanh(),\n",
    "          Flattener(),\n",
    "          nn.Linear(in_features=16 * 5 * 5, out_features=120),\n",
    "          nn.Tanh(),\n",
    "          nn.Linear(120, 84),\n",
    "          nn.Tanh(),\n",
    "          nn.Linear(84, 10)\n",
    "          )\n",
    "\n",
    "  return lenet_model\n",
    "  \n",
    "# Use grid search or random search and record all runs in run_record dictionnary \n",
    "# Important: perform search in logarithmic space!\n",
    "attemps = 10\n",
    "for ae, rg, lr in product(anneal_epochs, reg, learning_rates):\n",
    "  current_params = Hyperparams(lr, ae, rg)\n",
    "  new_lenet_model = get_new_Lenet_model()\n",
    "  new_lenet_model.type(torch.cuda.FloatTensor)\n",
    "  new_lenet_model.to(device)\n",
    "  loss = nn.CrossEntropyLoss().type(torch.cuda.FloatTensor)\n",
    "  optimizer = optim.Adam(new_lenet_model.parameters(), lr=current_params.learning_rate, weight_decay=current_params.reg)\n",
    "  loss_history, train_history, val_history = train_model(new_lenet_model, train_aug_loader, val_loader, loss, optimizer, epoch_num, current_params.anneal_epochs, anneal_coeff, use_scheduler=True)\n",
    "  print(f\" lr: {current_params.learning_rate} | weight_decay: {current_params.reg} | anneal_epochs: {current_params.anneal_epochs} | accuracy: {val_history[-1]}\")\n",
    "  result = RunResult(new_lenet_model, train_history, val_history, val_history[-1])\n",
    "  run_record[current_params]=result\n",
    "# TODO: Your code here!"
   ]
  },
  {
   "cell_type": "code",
   "execution_count": 21,
   "metadata": {
    "ExecuteTime": {
     "end_time": "2023-03-26T13:53:26.850355Z",
     "start_time": "2023-03-26T13:53:26.837000Z"
    },
    "id": "Y6xExdw8JB1l"
   },
   "outputs": [
    {
     "name": "stdout",
     "output_type": "stream",
     "text": [
      "Best validation accuracy: 0.88, best hyperparams: Hyperparams(learning_rate=0.001, anneal_epochs=10, reg=0.001)\n"
     ]
    }
   ],
   "source": [
    "best_val_accuracy = None\n",
    "best_hyperparams = None\n",
    "best_run = None\n",
    "\n",
    "for hyperparams, run_result in run_record.items():\n",
    "    if best_val_accuracy is None or best_val_accuracy < run_result.final_val_accuracy:\n",
    "        best_val_accuracy = run_result.final_val_accuracy\n",
    "        best_hyperparams = hyperparams\n",
    "        best_run = run_result\n",
    "        \n",
    "print(\"Best validation accuracy: %4.2f, best hyperparams: %s\" % (best_val_accuracy, best_hyperparams))\n",
    "        "
   ]
  },
  {
   "cell_type": "markdown",
   "metadata": {
    "id": "LOmsR0uVgtgf"
   },
   "source": [
    "# Свободное упражнение - догоним и перегоним LeNet!\n",
    "\n",
    "Попробуйте найти архитектуру и настройки тренировки, чтобы выступить лучше наших бейзлайнов.\n",
    "\n",
    "Что можно и нужно попробовать:\n",
    "- BatchNormalization (для convolution layers он в PyTorch называется [batchnorm2d](https://pytorch.org/docs/stable/nn.html#batchnorm2d))\n",
    "- Изменить количество слоев и их толщину\n",
    "- Изменять количество эпох тренировки\n",
    "- Попробовать и другие агментации"
   ]
  },
  {
   "cell_type": "code",
   "execution_count": 105,
   "metadata": {
    "ExecuteTime": {
     "end_time": "2023-03-26T15:21:22.038170Z",
     "start_time": "2023-03-26T14:54:36.998716Z"
    },
    "id": "tSVhD747icoc",
    "scrolled": false
   },
   "outputs": [
    {
     "name": "stdout",
     "output_type": "stream",
     "text": [
      "Epoch: 0.000000, Average loss: 1.250682, Train accuracy: 0.571409, Val accuracy: 0.817009\n",
      "Epoch: 1.000000, Average loss: 0.505729, Train accuracy: 0.845886, Val accuracy: 0.867449\n",
      "Epoch: 2.000000, Average loss: 0.418108, Train accuracy: 0.874774, Val accuracy: 0.878848\n",
      "Epoch: 3.000000, Average loss: 0.390278, Train accuracy: 0.883578, Val accuracy: 0.882875\n",
      "Epoch: 4.000000, Average loss: 0.387233, Train accuracy: 0.884534, Val accuracy: 0.882670\n",
      " lr: 0.01 | weight_decay: 0.001 | anneal_epochs: 1 | accuracy: 0.8826701045036316\n",
      "Epoch: 0.000000, Average loss: 0.712976, Train accuracy: 0.769495, Val accuracy: 0.872841\n",
      "Epoch: 1.000000, Average loss: 0.327593, Train accuracy: 0.903423, Val accuracy: 0.907242\n",
      "Epoch: 2.000000, Average loss: 0.283974, Train accuracy: 0.918268, Val accuracy: 0.914272\n",
      "Epoch: 3.000000, Average loss: 0.275843, Train accuracy: 0.920998, Val accuracy: 0.915910\n",
      "Epoch: 4.000000, Average loss: 0.272704, Train accuracy: 0.921578, Val accuracy: 0.915978\n",
      " lr: 0.001 | weight_decay: 0.001 | anneal_epochs: 1 | accuracy: 0.9159784317016602\n",
      "Epoch: 0.000000, Average loss: 1.515024, Train accuracy: 0.467188, Val accuracy: 0.774486\n",
      "Epoch: 1.000000, Average loss: 0.551029, Train accuracy: 0.832543, Val accuracy: 0.865606\n",
      "Epoch: 2.000000, Average loss: 0.424851, Train accuracy: 0.873221, Val accuracy: 0.876254\n",
      "Epoch: 3.000000, Average loss: 0.403316, Train accuracy: 0.880763, Val accuracy: 0.879053\n",
      "Epoch: 4.000000, Average loss: 0.399989, Train accuracy: 0.880644, Val accuracy: 0.879872\n",
      " lr: 0.01 | weight_decay: 1e-05 | anneal_epochs: 1 | accuracy: 0.879871666431427\n",
      "Epoch: 0.000000, Average loss: 0.679115, Train accuracy: 0.784237, Val accuracy: 0.882192\n",
      "Epoch: 1.000000, Average loss: 0.322343, Train accuracy: 0.903662, Val accuracy: 0.907924\n",
      "Epoch: 2.000000, Average loss: 0.276919, Train accuracy: 0.919121, Val accuracy: 0.912702\n",
      "Epoch: 3.000000, Average loss: 0.266172, Train accuracy: 0.923523, Val accuracy: 0.912634\n",
      "Epoch: 4.000000, Average loss: 0.263225, Train accuracy: 0.923916, Val accuracy: 0.912907\n",
      " lr: 0.001 | weight_decay: 1e-05 | anneal_epochs: 1 | accuracy: 0.9129069447517395\n",
      "Epoch: 0.000000, Average loss: 1.122397, Train accuracy: 0.621438, Val accuracy: 0.824585\n",
      "Epoch: 1.000000, Average loss: 0.571703, Train accuracy: 0.823499, Val accuracy: 0.846290\n",
      "Epoch: 2.000000, Average loss: 0.539794, Train accuracy: 0.835870, Val accuracy: 0.809092\n",
      "Epoch: 3.000000, Average loss: 0.527512, Train accuracy: 0.838703, Val accuracy: 0.856051\n",
      "Epoch: 4.000000, Average loss: 0.519086, Train accuracy: 0.840511, Val accuracy: 0.834755\n",
      " lr: 0.01 | weight_decay: 0.001 | anneal_epochs: 10 | accuracy: 0.8347553014755249\n",
      "Epoch: 0.000000, Average loss: 0.686883, Train accuracy: 0.779221, Val accuracy: 0.874684\n",
      "Epoch: 1.000000, Average loss: 0.369566, Train accuracy: 0.888868, Val accuracy: 0.895639\n",
      "Epoch: 2.000000, Average loss: 0.323406, Train accuracy: 0.902996, Val accuracy: 0.901235\n",
      "Epoch: 3.000000, Average loss: 0.296804, Train accuracy: 0.910879, Val accuracy: 0.901850\n",
      "Epoch: 4.000000, Average loss: 0.279086, Train accuracy: 0.916254, Val accuracy: 0.908675\n",
      " lr: 0.001 | weight_decay: 0.001 | anneal_epochs: 10 | accuracy: 0.9086751341819763\n",
      "Epoch: 0.000000, Average loss: 1.318345, Train accuracy: 0.542914, Val accuracy: 0.814415\n",
      "Epoch: 1.000000, Average loss: 0.542716, Train accuracy: 0.835119, Val accuracy: 0.870316\n",
      "Epoch: 2.000000, Average loss: 0.424819, Train accuracy: 0.870935, Val accuracy: 0.885059\n",
      "Epoch: 3.000000, Average loss: 0.384943, Train accuracy: 0.884483, Val accuracy: 0.889837\n",
      "Epoch: 4.000000, Average loss: 0.363716, Train accuracy: 0.890796, Val accuracy: 0.891680\n",
      " lr: 0.01 | weight_decay: 1e-05 | anneal_epochs: 10 | accuracy: 0.8916797041893005\n",
      "Epoch: 0.000000, Average loss: 0.682485, Train accuracy: 0.781251, Val accuracy: 0.887175\n",
      "Epoch: 1.000000, Average loss: 0.359840, Train accuracy: 0.891137, Val accuracy: 0.894342\n",
      "Epoch: 2.000000, Average loss: 0.307856, Train accuracy: 0.907296, Val accuracy: 0.913658\n",
      "Epoch: 3.000000, Average loss: 0.271866, Train accuracy: 0.918660, Val accuracy: 0.910245\n",
      "Epoch: 4.000000, Average loss: 0.249867, Train accuracy: 0.924530, Val accuracy: 0.915978\n",
      " lr: 0.001 | weight_decay: 1e-05 | anneal_epochs: 10 | accuracy: 0.9159784317016602\n"
     ]
    }
   ],
   "source": [
    "learning_rates = [1e-2, 1e-3]\n",
    "anneal_coeff = 0.2\n",
    "anneal_epochs = [1, 10]\n",
    "reg = [1e-3, 1e-5]\n",
    "\n",
    "batch_size = 512\n",
    "epoch_num = 5\n",
    "\n",
    "run_record = {} \n",
    "def get_new_model():\n",
    "  best_model = nn.Sequential(\n",
    "          nn.Conv2d(in_channels=3, out_channels=16, kernel_size=(5, 5), padding=\"same\"),\n",
    "          nn.MaxPool2d(kernel_size=(2, 2), stride=2),\n",
    "          nn.BatchNorm2d(num_features=16),\n",
    "          nn.ReLU(),\n",
    "          nn.Conv2d(in_channels=16, out_channels=32, kernel_size=(5, 5), padding=\"same\"),\n",
    "          nn.MaxPool2d(kernel_size=(2, 2), stride=2),\n",
    "          nn.BatchNorm2d(num_features=32),\n",
    "          nn.ReLU(),\n",
    "          nn.Conv2d(in_channels=32, out_channels=64, kernel_size=(5, 5), padding=\"same\"),\n",
    "          nn.MaxPool2d(kernel_size=(2, 2), stride=2),\n",
    "          nn.BatchNorm2d(num_features=64),\n",
    "          nn.ReLU(),\n",
    "          Flattener(),\n",
    "          nn.Linear(in_features=1024, out_features=100),\n",
    "          nn.ReLU(),\n",
    "          nn.Linear(100, 10))\n",
    "\n",
    "  return best_model\n",
    "\n",
    "attemps = 10\n",
    "for ae, rg, lr in product(anneal_epochs, reg, learning_rates):\n",
    "  current_params = Hyperparams(lr, ae, rg)\n",
    "  new_lenet_model = get_new_model()\n",
    "  new_lenet_model.type(torch.cuda.FloatTensor)\n",
    "  new_lenet_model.to(device)\n",
    "  loss = nn.CrossEntropyLoss().type(torch.cuda.FloatTensor)\n",
    "  optimizer = optim.Adam(new_lenet_model.parameters(), lr=current_params.learning_rate, weight_decay=current_params.reg)\n",
    "  loss_history, train_history, val_history = train_model(new_lenet_model, train_aug_loader, val_loader, loss, optimizer, epoch_num, current_params.anneal_epochs, anneal_coeff, use_scheduler=True)\n",
    "  print(f\" lr: {current_params.learning_rate} | weight_decay: {current_params.reg} | anneal_epochs: {current_params.anneal_epochs} | accuracy: {val_history[-1]}\")\n",
    "  result = RunResult(new_lenet_model, train_history, val_history, val_history[-1])\n",
    "  run_record[current_params]=result\n",
    "# TODO: Your code here!"
   ]
  },
  {
   "cell_type": "code",
   "execution_count": 108,
   "metadata": {
    "ExecuteTime": {
     "end_time": "2023-03-26T15:33:45.781593Z",
     "start_time": "2023-03-26T15:30:24.160551Z"
    }
   },
   "outputs": [
    {
     "name": "stdout",
     "output_type": "stream",
     "text": [
      "Epoch: 0.000000, Average loss: 0.726617, Train accuracy: 0.767669, Val accuracy: 0.873729\n",
      "Epoch: 1.000000, Average loss: 0.371329, Train accuracy: 0.887315, Val accuracy: 0.897686\n",
      "Epoch: 2.000000, Average loss: 0.313304, Train accuracy: 0.905385, Val accuracy: 0.899324\n",
      "Epoch: 3.000000, Average loss: 0.279224, Train accuracy: 0.916169, Val accuracy: 0.913726\n",
      "Epoch: 4.000000, Average loss: 0.251518, Train accuracy: 0.924428, Val accuracy: 0.914340\n",
      " lr: 0.001 | weight_decay: 1e-05 | anneal_epochs: 10 | accuracy: 0.9143403172492981\n"
     ]
    }
   ],
   "source": [
    "learning_rates = [1e-3]\n",
    "anneal_coeff = 0.2\n",
    "anneal_epochs = [10]\n",
    "reg = [1e-5]\n",
    "\n",
    "batch_size = 512\n",
    "epoch_num = 5\n",
    "\n",
    "run_record = {} \n",
    "def get_new_model():\n",
    "  best_model = nn.Sequential(\n",
    "          nn.Conv2d(in_channels=3, out_channels=16, kernel_size=(5, 5), padding=\"same\"),\n",
    "          nn.MaxPool2d(kernel_size=(2, 2), stride=2),\n",
    "          nn.BatchNorm2d(num_features=16),\n",
    "          nn.ReLU(),\n",
    "          nn.Conv2d(in_channels=16, out_channels=32, kernel_size=(5, 5), padding=\"same\"),\n",
    "          nn.MaxPool2d(kernel_size=(2, 2), stride=2),\n",
    "          nn.BatchNorm2d(num_features=32),\n",
    "          nn.ReLU(),\n",
    "          nn.Conv2d(in_channels=32, out_channels=64, kernel_size=(5, 5), padding=\"same\"),\n",
    "          nn.MaxPool2d(kernel_size=(2, 2), stride=2),\n",
    "          nn.BatchNorm2d(num_features=64),\n",
    "          nn.ReLU(),\n",
    "          Flattener(),\n",
    "          nn.Linear(in_features=1024, out_features=100),\n",
    "          nn.ReLU(),\n",
    "          nn.Linear(100, 10))\n",
    "\n",
    "  return best_model\n",
    "\n",
    "attemps = 10\n",
    "for ae, rg, lr in product(anneal_epochs, reg, learning_rates):\n",
    "  current_params = Hyperparams(lr, ae, rg)\n",
    "  new_lenet_model = get_new_model()\n",
    "  new_lenet_model.type(torch.cuda.FloatTensor)\n",
    "  new_lenet_model.to(device)\n",
    "  loss = nn.CrossEntropyLoss().type(torch.cuda.FloatTensor)\n",
    "  optimizer = optim.Adam(new_lenet_model.parameters(), lr=current_params.learning_rate, weight_decay=current_params.reg)\n",
    "  loss_history, train_history, val_history = train_model(new_lenet_model, train_aug_loader, val_loader, loss, optimizer, epoch_num, current_params.anneal_epochs, anneal_coeff, use_scheduler=True)\n",
    "  print(f\" lr: {current_params.learning_rate} | weight_decay: {current_params.reg} | anneal_epochs: {current_params.anneal_epochs} | accuracy: {val_history[-1]}\")\n",
    "  result = RunResult(new_lenet_model, train_history, val_history, val_history[-1])\n",
    "  run_record[current_params]=result\n",
    "# TODO: Your code here!"
   ]
  },
  {
   "cell_type": "markdown",
   "metadata": {
    "id": "ubeKgBcnhx7N"
   },
   "source": [
    "# Финальный аккорд - проверим лучшую модель на test set\n",
    "\n",
    "В качестве разнообразия - напишите код для прогона модели на test set вы.\n",
    "\n",
    "В результате вы должны натренировать модель, которая покажет более **90%** точности на test set.  \n",
    "Как водится, лучший результат в группе получит дополнительные баллы!"
   ]
  },
  {
   "cell_type": "code",
   "execution_count": 113,
   "metadata": {
    "ExecuteTime": {
     "end_time": "2023-03-26T15:35:25.987114Z",
     "start_time": "2023-03-26T15:35:25.976933Z"
    }
   },
   "outputs": [],
   "source": [
    "for hyperparams, run_result in run_record.items():\n",
    "    if best_val_accuracy is None or best_val_accuracy < run_result.final_val_accuracy:\n",
    "        best_val_accuracy = run_result.final_val_accuracy\n",
    "        best_hyperparams = hyperparams\n",
    "        best_run = run_result"
   ]
  },
  {
   "cell_type": "code",
   "execution_count": 118,
   "metadata": {
    "ExecuteTime": {
     "end_time": "2023-03-26T15:36:20.400566Z",
     "start_time": "2023-03-26T15:36:15.996707Z"
    },
    "id": "EIqM1kdeh-hd"
   },
   "outputs": [
    {
     "name": "stdout",
     "output_type": "stream",
     "text": [
      "Final test accuracy -  tensor(0.9195, device='cuda:0')\n"
     ]
    }
   ],
   "source": [
    "# TODO Write the code to compute accuracy on test set\n",
    "test_loader = torch.utils.data.DataLoader(data_test, batch_size=batch_size)\n",
    "final_test_accuracy = compute_accuracy(best_run.model, test_loader)\n",
    "print(\"Final test accuracy - \", final_test_accuracy)"
   ]
  }
 ],
 "metadata": {
  "accelerator": "GPU",
  "colab": {
   "provenance": []
  },
  "gpuClass": "standard",
  "kernelspec": {
   "display_name": "Python 3 (ipykernel)",
   "language": "python",
   "name": "python3"
  },
  "language_info": {
   "codemirror_mode": {
    "name": "ipython",
    "version": 3
   },
   "file_extension": ".py",
   "mimetype": "text/x-python",
   "name": "python",
   "nbconvert_exporter": "python",
   "pygments_lexer": "ipython3",
   "version": "3.9.13"
  }
 },
 "nbformat": 4,
 "nbformat_minor": 1
}
